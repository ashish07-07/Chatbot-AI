{
 "cells": [
  {
   "cell_type": "code",
   "execution_count": 7,
   "metadata": {},
   "outputs": [],
   "source": [
    "import os \n",
    "from dotenv import load_dotenv\n",
    "load_dotenv()\n",
    "groqapi_key=os.getenv(\"GROQ_API_KEY\")\n",
    "\n"
   ]
  },
  {
   "cell_type": "code",
   "execution_count": 8,
   "metadata": {},
   "outputs": [],
   "source": [
    "from langchain_groq import ChatGroq\n",
    "model=ChatGroq(model=\"gemma2-9b-it\",api_key=groqapi_key)"
   ]
  },
  {
   "cell_type": "code",
   "execution_count": 9,
   "metadata": {},
   "outputs": [],
   "source": [
    "from langchain_core.prompts import ChatPromptTemplate\n",
    "from langchain_core.output_parsers import StrOutputParser\n",
    "from langchain_core.messages import SystemMessage,HumanMessage\n",
    "\n"
   ]
  },
  {
   "cell_type": "code",
   "execution_count": 10,
   "metadata": {},
   "outputs": [],
   "source": [
    "from langchain_community.chat_message_histories import ChatMessageHistory\n",
    "from langchain_core.chat_history import BaseChatMessageHistory\n",
    "from langchain_core.runnables.history import RunnableWithMessageHistory\n",
    "store={}\n",
    "\n",
    "def get_session_history(session_id:str )->BaseChatMessageHistory:\n",
    "    if session_id not in store:\n",
    "        store[session_id]=ChatMessageHistory()\n",
    "    return store[session_id]\n",
    "with_message_history=RunnableWithMessageHistory(model,get_session_history=get_session_history)\n"
   ]
  },
  {
   "cell_type": "code",
   "execution_count": 11,
   "metadata": {},
   "outputs": [],
   "source": [
    "config={\"configurable\":{\"session_id\":\"chat1\"}}\n"
   ]
  },
  {
   "cell_type": "code",
   "execution_count": null,
   "metadata": {},
   "outputs": [
    {
     "data": {
      "text/plain": [
       "AIMessage(content=\"That's fantastic, Ashish!  It's great to meet another aspiring full-stack developer with an interest in LLMs. \\n\\nHaving knowledge of LLMs is a real asset in today's tech world. They're transforming how we build applications and interact with software.\\n\\n**Here's how your combined skills can be powerful:**\\n\\n* **Building smarter user interfaces:** LLMs can power chatbots, provide natural language search, and even generate dynamic content within your web applications.\\n* **Automating repetitive tasks:** LLMs can help automate tasks like code generation, documentation, and testing, freeing you to focus on more creative and complex problems.\\n* **Personalizing user experiences:**  LLMs can analyze user data and tailor website content, recommendations, and interactions to individual preferences.\\n\\n**To help you on your journey, I can offer:**\\n\\n* **Explanations of LLM concepts:** I can break down complex ideas about natural language processing, machine learning, and how LLMs work.\\n* **Code examples and resources:** I can provide examples of how to integrate LLMs into your web applications using popular frameworks and libraries.\\n* **Brainstorming ideas:** We can discuss potential projects that combine your full-stack skills with your LLM knowledge.\\n\\n**What are your specific interests within full-stack development and LLMs?** \\n\\nKnowing this will help me provide more targeted and relevant information. \\n\\nGood luck with your journey, Ashish!  It's an exciting time to be building with these technologies.\\n\", additional_kwargs={}, response_metadata={'token_usage': {'completion_tokens': 320, 'prompt_tokens': 25, 'total_tokens': 345, 'completion_time': 0.581818182, 'prompt_time': 0.000148969, 'queue_time': 0.020484251000000002, 'total_time': 0.581967151}, 'model_name': 'gemma2-9b-it', 'system_fingerprint': 'fp_10c08bf97d', 'finish_reason': 'stop', 'logprobs': None}, id='run-e7f7db5c-8aee-4f29-821d-49e1f31eb25c-0', usage_metadata={'input_tokens': 25, 'output_tokens': 320, 'total_tokens': 345})"
      ]
     },
     "execution_count": 12,
     "metadata": {},
     "output_type": "execute_result"
    }
   ],
   "source": [
    "response=with_message_history.invoke(\n",
    "    [HumanMessage(content=\"Hi I ma ashish aspiring full stack developper witl llm knowledge\")],\n",
    "    config=config\n",
    ")\n"
   ]
  },
  {
   "cell_type": "code",
   "execution_count": null,
   "metadata": {},
   "outputs": [],
   "source": [
    "response.content\n"
   ]
  },
  {
   "cell_type": "code",
   "execution_count": 13,
   "metadata": {},
   "outputs": [
    {
     "data": {
      "text/plain": [
       "AIMessage(content='Your name is Ashish, as you stated at the beginning of our conversation. 😊  \\n\\nIs there anything else I can help you with today?\\n', additional_kwargs={}, response_metadata={'token_usage': {'completion_tokens': 33, 'prompt_tokens': 357, 'total_tokens': 390, 'completion_time': 0.06, 'prompt_time': 0.011287373, 'queue_time': 0.022663407, 'total_time': 0.071287373}, 'model_name': 'gemma2-9b-it', 'system_fingerprint': 'fp_10c08bf97d', 'finish_reason': 'stop', 'logprobs': None}, id='run-3db2aea8-8779-400a-84ca-c8e789edae3a-0', usage_metadata={'input_tokens': 357, 'output_tokens': 33, 'total_tokens': 390})"
      ]
     },
     "execution_count": 13,
     "metadata": {},
     "output_type": "execute_result"
    }
   ],
   "source": [
    "with_message_history.invoke(\n",
    "    [HumanMessage(content=\"what is my name\")],\n",
    "    config=config\n",
    ")"
   ]
  },
  {
   "cell_type": "code",
   "execution_count": 16,
   "metadata": {},
   "outputs": [
    {
     "data": {
      "text/plain": [
       "AIMessage(content=\"You're Ashish!  I remember you telling me at the beginning.  \\n\\nIs there anything else I can help you with today?\\n\", additional_kwargs={}, response_metadata={'token_usage': {'completion_tokens': 32, 'prompt_tokens': 402, 'total_tokens': 434, 'completion_time': 0.058181818, 'prompt_time': 0.016117912, 'queue_time': 0.021529737999999996, 'total_time': 0.07429973}, 'model_name': 'gemma2-9b-it', 'system_fingerprint': 'fp_10c08bf97d', 'finish_reason': 'stop', 'logprobs': None}, id='run-aa456ec3-e107-4837-acb0-3a76409c9d30-0', usage_metadata={'input_tokens': 402, 'output_tokens': 32, 'total_tokens': 434})"
      ]
     },
     "execution_count": 16,
     "metadata": {},
     "output_type": "execute_result"
    }
   ],
   "source": [
    "## cahnge the config\n",
    "config={\"configurable\":{\"session_id\":\"chat1\"}}\n",
    "with_message_history.invoke(\n",
    "    [HumanMessage(content=\"what is my name\")],\n",
    "    config=config\n",
    ")\n"
   ]
  },
  {
   "cell_type": "code",
   "execution_count": null,
   "metadata": {},
   "outputs": [],
   "source": []
  }
 ],
 "metadata": {
  "kernelspec": {
   "display_name": "venv",
   "language": "python",
   "name": "python3"
  },
  "language_info": {
   "codemirror_mode": {
    "name": "ipython",
    "version": 3
   },
   "file_extension": ".py",
   "mimetype": "text/x-python",
   "name": "python",
   "nbconvert_exporter": "python",
   "pygments_lexer": "ipython3",
   "version": "3.10.16"
  }
 },
 "nbformat": 4,
 "nbformat_minor": 2
}
